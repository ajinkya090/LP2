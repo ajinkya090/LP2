{
 "cells": [
  {
   "cell_type": "code",
   "execution_count": 18,
   "id": "a7244b07-4c6d-4f2c-a018-e8d78fe33268",
   "metadata": {},
   "outputs": [
    {
     "name": "stdout",
     "output_type": "stream",
     "text": [
      "****** Welcome to Pizzaria Cafe ******\n",
      "\n"
     ]
    },
    {
     "name": "stdin",
     "output_type": "stream",
     "text": [
      "Can I know your good name:  Ajinkya\n"
     ]
    },
    {
     "name": "stdout",
     "output_type": "stream",
     "text": [
      "Hey Ajinkya! Good to see you here!!!\n",
      "You are at the right place, I will help you to book your dishes and drinks.\n",
      "\n",
      "Here is your menu with their prices:\n",
      "    1. Pizza         RS.200 \n",
      "    2. Momos         RS.120\n",
      "    3. Mango Juice   RS.70\n",
      "    4. Apple Juice   RS.80\n",
      "\n",
      "Please type the product you wish to order (Pizza / Momos / Mango Juice / Apple Juice):\n"
     ]
    },
    {
     "name": "stdin",
     "output_type": "stream",
     "text": [
      " Momos\n",
      "Do you want to order another item? (yes/no):  yes\n"
     ]
    },
    {
     "name": "stdout",
     "output_type": "stream",
     "text": [
      "Please type the product you wish to order (Pizza / Momos / Mango Juice / Apple Juice):\n"
     ]
    },
    {
     "name": "stdin",
     "output_type": "stream",
     "text": [
      " Pizza\n",
      "Do you want to order another item? (yes/no):  no\n"
     ]
    },
    {
     "name": "stdout",
     "output_type": "stream",
     "text": [
      "\n",
      "Please give us some more information about you!\n"
     ]
    },
    {
     "name": "stdin",
     "output_type": "stream",
     "text": [
      "Enter your mobile number:  9604350258\n",
      "Enter your address of delivery:  Varale\n"
     ]
    },
    {
     "name": "stdout",
     "output_type": "stream",
     "text": [
      "Choose mode of payment: \n",
      "    1. Online \n",
      "    2. Cash on delivery\n"
     ]
    },
    {
     "name": "stdin",
     "output_type": "stream",
     "text": [
      "Enter 1 or 2:  2\n"
     ]
    },
    {
     "name": "stdout",
     "output_type": "stream",
     "text": [
      "\n",
      "******* Here are the details of your selected order *******\n",
      "Customer Name     : Ajinkya\n",
      "Delivery Address  : Varale\n",
      "Mode of Payment   : Cash on delivery\n",
      "\n",
      "Ordered Items:\n",
      "  - Momos  RS.120\n",
      "  - Pizza  RS.200\n",
      "\n",
      "Total Amount      : RS.320\n"
     ]
    },
    {
     "name": "stdin",
     "output_type": "stream",
     "text": [
      "\n",
      "Please confirm by pressing 1 else 0 to cancel:  1\n"
     ]
    },
    {
     "name": "stdout",
     "output_type": "stream",
     "text": [
      "\n",
      "******* Your order is booked successfully *******\n",
      "Thank you for your interest! Have a nice day!\n"
     ]
    }
   ],
   "source": [
    "def welcome():\n",
    "    print(\"****** Welcome to Pizzaria Cafe ******\")\n",
    "    print()\n",
    "\n",
    "def info():\n",
    "    name = input(\"Can I know your good name: \")\n",
    "    print(f\"Hey {name}! Good to see you here!!!\")\n",
    "    print(\"You are at the right place, I will help you to book your dishes and drinks.\")\n",
    "    print()\n",
    "    return name\n",
    "\n",
    "def menu():\n",
    "    print('''Here is your menu with their prices:\n",
    "    1. Pizza         RS.200 \n",
    "    2. Momos         RS.120\n",
    "    3. Mango Juice   RS.70\n",
    "    4. Apple Juice   RS.80''')\n",
    "    print()\n",
    "\n",
    "def get_payment_mode():\n",
    "    while True:\n",
    "        print('''Choose mode of payment: \n",
    "    1. Online \n",
    "    2. Cash on delivery''')\n",
    "        pay = input(\"Enter 1 or 2: \")\n",
    "        if pay == \"1\":\n",
    "            return \"Online\"\n",
    "        elif pay == \"2\":\n",
    "            return \"Cash on delivery\"\n",
    "        else:\n",
    "            print(\"Invalid input. Please enter 1 or 2.\")\n",
    "\n",
    "def choice(cart):\n",
    "    while True:\n",
    "        print(\"Please type the product you wish to order (Pizza / Momos / Mango Juice / Apple Juice):\")\n",
    "        product = input().strip().lower()\n",
    "        if product == \"pizza\":\n",
    "            cart.append((\"Pizza\", 200))\n",
    "        elif product == \"momos\":\n",
    "            cart.append((\"Momos\", 120))\n",
    "        elif product == \"mango juice\":\n",
    "            cart.append((\"Mango Juice\", 70))\n",
    "        elif product == \"apple juice\":\n",
    "            cart.append((\"Apple Juice\", 80))\n",
    "        else:\n",
    "            print(\"You have not selected a valid product.\")\n",
    "        \n",
    "        more = input(\"Do you want to order another item? (yes/no): \").strip().lower()\n",
    "        if more != \"yes\":\n",
    "            break\n",
    "\n",
    "def confirm_and_print_bill(name, cart):\n",
    "    if not cart:\n",
    "        print(\"No items in cart. Thank you for visiting!\")\n",
    "        return\n",
    "\n",
    "    print(\"\\nPlease give us some more information about you!\")\n",
    "    mob = input(\"Enter your mobile number: \")\n",
    "    add = input(\"Enter your address of delivery: \")\n",
    "    paymode = get_payment_mode()\n",
    "\n",
    "    total = sum(price for _, price in cart)\n",
    "\n",
    "    print(\"\\n******* Here are the details of your selected order *******\")\n",
    "    print(f\"Customer Name     : {name}\")\n",
    "    print(f\"Delivery Address  : {add}\")\n",
    "    print(f\"Mode of Payment   : {paymode}\")\n",
    "    print(\"\\nOrdered Items:\")\n",
    "    for item, price in cart:\n",
    "        print(f\"  - {item}  RS.{price}\")\n",
    "    print(f\"\\nTotal Amount      : RS.{total}\")\n",
    "\n",
    "    confirm = input(\"\\nPlease confirm by pressing 1 else 0 to cancel: \")\n",
    "    print()\n",
    "    if confirm == \"1\":\n",
    "        print(\"******* Your order is booked successfully *******\")\n",
    "        print(\"Thank you for your interest! Have a nice day!\")\n",
    "    else:\n",
    "        print(\"***** Order cancelled. Thank you for visiting! *****\")\n",
    "\n",
    "# Main Program\n",
    "welcome()\n",
    "customer_name = info()\n",
    "menu()\n",
    "cart = []\n",
    "choice(cart)\n",
    "confirm_and_print_bill(customer_name, cart)\n"
   ]
  },
  {
   "cell_type": "code",
   "execution_count": null,
   "id": "b4381257-9272-4bdd-a959-85eba27704f3",
   "metadata": {},
   "outputs": [
    {
     "name": "stdout",
     "output_type": "stream",
     "text": [
      "****** Welcome to Pizzaria Cafe ******\n",
      "\n"
     ]
    },
    {
     "name": "stdin",
     "output_type": "stream",
     "text": [
      "Can I know your good name:  Ajinkya \n"
     ]
    },
    {
     "name": "stdout",
     "output_type": "stream",
     "text": [
      "Hey Ajinkya ! Good to see you here!!!\n",
      "You are at the right place, I will help you to book your dishes and drinks.\n",
      "\n",
      "Here is your menu with their prices:\n",
      "    1. Pizza         RS.200 \n",
      "    2. Momos         RS.120\n",
      "    3. Mango Juice   RS.70\n",
      "    4. Apple Juice   RS.80\n",
      "\n",
      "Please type the product you wish to order (Pizza / Momos / Mango Juice / Apple Juice):\n"
     ]
    },
    {
     "name": "stdin",
     "output_type": "stream",
     "text": [
      " Pizza\n",
      "How many Pizza would you like to order?  2\n",
      "Do you want to order another item? (yes/no):  yes\n"
     ]
    },
    {
     "name": "stdout",
     "output_type": "stream",
     "text": [
      "Please type the product you wish to order (Pizza / Momos / Mango Juice / Apple Juice):\n"
     ]
    },
    {
     "name": "stdin",
     "output_type": "stream",
     "text": [
      " Mango Juice\n",
      "How many Mango Juice would you like to order?  1\n",
      "Do you want to order another item? (yes/no):  no\n"
     ]
    },
    {
     "name": "stdout",
     "output_type": "stream",
     "text": [
      "\n",
      "Please give us some more information about you!\n"
     ]
    }
   ],
   "source": [
    "def welcome():\n",
    "    print(\"****** Welcome to Pizzaria Cafe ******\")\n",
    "    print()\n",
    "\n",
    "def info():\n",
    "    name = input(\"Can I know your good name: \")\n",
    "    print(f\"Hey {name}! Good to see you here!!!\")\n",
    "    print(\"You are at the right place, I will help you to book your dishes and drinks.\")\n",
    "    print()\n",
    "    return name\n",
    "\n",
    "def menu():\n",
    "    print('''Here is your menu with their prices:\n",
    "    1. Pizza         RS.200 \n",
    "    2. Momos         RS.120\n",
    "    3. Mango Juice   RS.70\n",
    "    4. Apple Juice   RS.80''')\n",
    "    print()\n",
    "\n",
    "def get_payment_mode():\n",
    "    while True:\n",
    "        print('''Choose mode of payment: \n",
    "    1. Online \n",
    "    2. Cash on delivery''')\n",
    "        pay = input(\"Enter 1 or 2: \")\n",
    "        if pay == \"1\":\n",
    "            return \"Online\"\n",
    "        elif pay == \"2\":\n",
    "            return \"Cash on delivery\"\n",
    "        else:\n",
    "            print(\"Invalid input. Please enter 1 or 2.\")\n",
    "\n",
    "def choice(cart):\n",
    "    price_list = {\n",
    "        \"pizza\": 200,\n",
    "        \"momos\": 120,\n",
    "        \"mango juice\": 70,\n",
    "        \"apple juice\": 80\n",
    "    }\n",
    "\n",
    "    while True:\n",
    "        print(\"Please type the product you wish to order (Pizza / Momos / Mango Juice / Apple Juice):\")\n",
    "        product = input().strip().lower()\n",
    "        if product in price_list:\n",
    "            while True:\n",
    "                try:\n",
    "                    quantity = int(input(f\"How many {product.title()} would you like to order? \"))\n",
    "                    if quantity <= 0:\n",
    "                        print(\"Please enter a quantity greater than 0.\")\n",
    "                        continue\n",
    "                    break\n",
    "                except ValueError:\n",
    "                    print(\"Invalid input. Please enter a number.\")\n",
    "\n",
    "            unit_price = price_list[product]\n",
    "            total_price = unit_price * quantity\n",
    "            cart.append((product.title(), unit_price, quantity, total_price))\n",
    "        else:\n",
    "            print(\"You have not selected a valid product.\")\n",
    "\n",
    "        more = input(\"Do you want to order another item? (yes/no): \").strip().lower()\n",
    "        if more != \"yes\":\n",
    "            break\n",
    "\n",
    "def confirm_and_print_bill(name, cart):\n",
    "    if not cart:\n",
    "        print(\"No items in cart. Thank you for visiting!\")\n",
    "        return\n",
    "\n",
    "    print(\"\\nPlease give us some more information about you!\")\n",
    "    mob = input(\"Enter your mobile number: \")\n",
    "    add = input(\"Enter your address of delivery: \")\n",
    "    paymode = get_payment_mode()\n",
    "\n",
    "    total = sum(item[3] for item in cart)\n",
    "\n",
    "    print(\"\\n******* Here are the details of your selected order *******\")\n",
    "    print(f\"Customer Name     : {name}\")\n",
    "    print(f\"Delivery Address  : {add}\")\n",
    "    print(f\"Mode of Payment   : {paymode}\")\n",
    "    print(\"\\nOrdered Items:\")\n",
    "    print(f\"{'Item':20} {'Qty':>5} {'Unit Price':>12} {'Subtotal':>12}\")\n",
    "    print(\"-\" * 52)\n",
    "    for item, unit_price, qty, subtotal in cart:\n",
    "        print(f\"{item:20} {qty:>5} {unit_price:>12} {subtotal:>12}\")\n",
    "    print(\"-\" * 52)\n",
    "    print(f\"{'Total Amount':>41} : RS.{total}\")\n",
    "    \n",
    "    confirm = input(\"\\nPlease confirm by pressing 1 else 0 to cancel: \")\n",
    "    print()\n",
    "    if confirm == \"1\":\n",
    "        print(\"******* Your order is booked successfully *******\")\n",
    "        print(\"Thank you for your interest! Have a nice day!\")\n",
    "    else:\n",
    "        print(\"***** Order cancelled. Thank you for visiting! *****\")\n",
    "\n",
    "# Main Program\n",
    "welcome()\n",
    "customer_name = info()\n",
    "menu()\n",
    "cart = []\n",
    "choice(cart)\n",
    "confirm_and_print_bill(customer_name, cart)\n"
   ]
  },
  {
   "cell_type": "code",
   "execution_count": null,
   "id": "41348eb6-7947-4f08-98b8-b8c5a2f6de40",
   "metadata": {},
   "outputs": [],
   "source": []
  }
 ],
 "metadata": {
  "kernelspec": {
   "display_name": "Python [conda env:base] *",
   "language": "python",
   "name": "conda-base-py"
  },
  "language_info": {
   "codemirror_mode": {
    "name": "ipython",
    "version": 3
   },
   "file_extension": ".py",
   "mimetype": "text/x-python",
   "name": "python",
   "nbconvert_exporter": "python",
   "pygments_lexer": "ipython3",
   "version": "3.12.7"
  }
 },
 "nbformat": 4,
 "nbformat_minor": 5
}
