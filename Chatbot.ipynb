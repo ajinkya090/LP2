{
 "cells": [
  {
   "cell_type": "code",
   "execution_count": 16,
   "id": "314db12f-ac2b-4193-aa1f-40f34d7974cc",
   "metadata": {},
   "outputs": [
    {
     "name": "stdout",
     "output_type": "stream",
     "text": [
      "****** Welcome to Pizzaria Cafe ******\n",
      "\n"
     ]
    },
    {
     "name": "stdin",
     "output_type": "stream",
     "text": [
      "Can I know your good name:  Ajinkya\n"
     ]
    },
    {
     "name": "stdout",
     "output_type": "stream",
     "text": [
      "Hey Ajinkya! Good to see you here!!!\n",
      "You are at the right place, I will help you to book your dish and drinks.\n",
      "\n",
      "Here is your menu with their prices:\n",
      "    1. Pizza         RS.200 \n",
      "    2. Momos         RS.120\n",
      "    3. Mango Juice   RS.70\n",
      "    4. Apple Juice   RS.80\n",
      "\n",
      "Please type the product you wish to order (Pizza / Momos / Mango Juice / Apple Juice):\n"
     ]
    },
    {
     "name": "stdin",
     "output_type": "stream",
     "text": [
      " Momos\n"
     ]
    },
    {
     "name": "stdout",
     "output_type": "stream",
     "text": [
      "\n",
      "Thank you for choosing Momos\n",
      "\n",
      "Please give us some more information about you!\n"
     ]
    },
    {
     "name": "stdin",
     "output_type": "stream",
     "text": [
      "Enter your mobile number:  9604350258\n",
      "Enter your address of delivery:  Varale\n"
     ]
    },
    {
     "name": "stdout",
     "output_type": "stream",
     "text": [
      "Choose mode of payment: \n",
      "    1. Online \n",
      "    2. Cash on delivery\n"
     ]
    },
    {
     "name": "stdin",
     "output_type": "stream",
     "text": [
      "Enter 1 or 2:  1\n"
     ]
    },
    {
     "name": "stdout",
     "output_type": "stream",
     "text": [
      "\n",
      "******* Here are the details of your selected order *******\n",
      "Customer Name     : Ajinkya\n",
      "Product Name      : Momos\n",
      "Price of Product  : RS.120\n",
      "Mode of Payment   : Online\n",
      "Delivery Address  : Varale\n",
      "\n"
     ]
    },
    {
     "name": "stdin",
     "output_type": "stream",
     "text": [
      "Please confirm by pressing 1 else 0 to cancel:  1\n"
     ]
    },
    {
     "name": "stdout",
     "output_type": "stream",
     "text": [
      "\n",
      "******* Your order is booked successfully *******\n",
      "Customer Name     : Ajinkya\n",
      "Product Name      : Momos\n",
      "Price of Product  : RS.120\n",
      "Mode of Payment   : Online\n",
      "Delivery Address  : Varale\n",
      "\n",
      "Thank you for your interest! Have a nice day!\n"
     ]
    }
   ],
   "source": [
    "def welcome():\n",
    "    print(\"****** Welcome to Pizzaria Cafe ******\")\n",
    "    print()\n",
    "\n",
    "def info():\n",
    "    name = input(\"Can I know your good name: \")\n",
    "    print(f\"Hey {name}! Good to see you here!!!\")\n",
    "    print(\"You are at the right place, I will help you to book your dish and drinks.\")\n",
    "    print()\n",
    "    return name\n",
    "\n",
    "def menu():\n",
    "    print('''Here is your menu with their prices:\n",
    "    1. Pizza         RS.200 \n",
    "    2. Momos         RS.120\n",
    "    3. Mango Juice   RS.70\n",
    "    4. Apple Juice   RS.80''')\n",
    "    print()\n",
    "\n",
    "def order(name, price, product):\n",
    "    print()\n",
    "    print(f\"Thank you for choosing {product}\")\n",
    "    print()\n",
    "    print(\"Please give us some more information about you!\")\n",
    "    mob = input(\"Enter your mobile number: \")\n",
    "    add = input(\"Enter your address of delivery: \")\n",
    "    \n",
    "    # Loop until valid payment option is entered\n",
    "    while True:\n",
    "        print('''Choose mode of payment: \n",
    "    1. Online \n",
    "    2. Cash on delivery''')\n",
    "        pay = input(\"Enter 1 or 2: \")\n",
    "        if pay == \"1\":\n",
    "            paymode = \"Online\"\n",
    "            break\n",
    "        elif pay == \"2\":\n",
    "            paymode = \"Cash on delivery\"\n",
    "            break\n",
    "        else:\n",
    "            print(\"Invalid input. Please enter 1 or 2.\")\n",
    "\n",
    "    print()\n",
    "    print(\"******* Here are the details of your selected order *******\")\n",
    "    print(f\"Customer Name     : {name}\")\n",
    "    print(f\"Product Name      : {product}\")\n",
    "    print(f\"Price of Product  : RS.{price}\")\n",
    "    print(f\"Mode of Payment   : {paymode}\")\n",
    "    print(f\"Delivery Address  : {add}\")\n",
    "    print()\n",
    "\n",
    "    b = input(\"Please confirm by pressing 1 else 0 to cancel: \")\n",
    "    print()\n",
    "    if b == \"1\":\n",
    "        print(\"******* Your order is booked successfully *******\")\n",
    "        print(f\"Customer Name     : {name}\")\n",
    "        print(f\"Product Name      : {product}\")\n",
    "        print(f\"Price of Product  : RS.{price}\")\n",
    "        print(f\"Mode of Payment   : {paymode}\")\n",
    "        print(f\"Delivery Address  : {add}\")\n",
    "        print()\n",
    "        print(\"Thank you for your interest! Have a nice day!\")\n",
    "    else:\n",
    "        print(\"***** Order cancelled. Thank you for visiting! Have a nice day! *****\")\n",
    "\n",
    "def choice(name):\n",
    "    print(\"Please type the product you wish to order (Pizza / Momos / Mango Juice / Apple Juice):\")\n",
    "    product = input().strip().lower()\n",
    "    if product == \"pizza\":\n",
    "        order(name, 200, \"Pizza\")\n",
    "    elif product == \"momos\":\n",
    "        order(name, 120, \"Momos\")\n",
    "    elif product == \"mango juice\":\n",
    "        order(name, 70, \"Mango Juice\")\n",
    "    elif product == \"apple juice\":\n",
    "        order(name, 80, \"Apple Juice\")\n",
    "    else:\n",
    "        print(\"You have not selected a valid product... Thank you for visiting! Have a nice day!\")\n",
    "\n",
    "# Main Program\n",
    "welcome()\n",
    "customer_name = info()\n",
    "menu()\n",
    "choice(customer_name)\n"
   ]
  },
  {
   "cell_type": "code",
   "execution_count": null,
   "id": "a7244b07-4c6d-4f2c-a018-e8d78fe33268",
   "metadata": {},
   "outputs": [],
   "source": []
  }
 ],
 "metadata": {
  "kernelspec": {
   "display_name": "Python [conda env:base] *",
   "language": "python",
   "name": "conda-base-py"
  },
  "language_info": {
   "codemirror_mode": {
    "name": "ipython",
    "version": 3
   },
   "file_extension": ".py",
   "mimetype": "text/x-python",
   "name": "python",
   "nbconvert_exporter": "python",
   "pygments_lexer": "ipython3",
   "version": "3.12.7"
  }
 },
 "nbformat": 4,
 "nbformat_minor": 5
}
