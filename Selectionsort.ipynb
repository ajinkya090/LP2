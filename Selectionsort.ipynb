{
 "cells": [
  {
   "cell_type": "code",
   "execution_count": 4,
   "id": "15d6aec3-a09e-4fe9-82d9-e180fc98a84b",
   "metadata": {},
   "outputs": [
    {
     "name": "stdin",
     "output_type": "stream",
     "text": [
      "Enter the array to sort (space separated):  4 6 3 1 9 7 \n"
     ]
    },
    {
     "name": "stdout",
     "output_type": "stream",
     "text": [
      "Initial array: [4, 6, 3, 1, 9, 7]\n",
      "\n",
      "Step 1:\n",
      "  Starting index 0, current value: 4\n",
      "    Comparing 6 (index 1) with current min 4 (index 0)\n",
      "    Comparing 3 (index 2) with current min 4 (index 0)\n",
      "    → New minimum found: 3 at index 2\n",
      "    Comparing 1 (index 3) with current min 3 (index 2)\n",
      "    → New minimum found: 1 at index 3\n",
      "    Comparing 9 (index 4) with current min 1 (index 3)\n",
      "    Comparing 7 (index 5) with current min 1 (index 3)\n",
      "  Swapping 4 and 1\n",
      "  Array after step 1: [1, 6, 3, 4, 9, 7]\n",
      "\n",
      "Step 2:\n",
      "  Starting index 1, current value: 6\n",
      "    Comparing 3 (index 2) with current min 6 (index 1)\n",
      "    → New minimum found: 3 at index 2\n",
      "    Comparing 4 (index 3) with current min 3 (index 2)\n",
      "    Comparing 9 (index 4) with current min 3 (index 2)\n",
      "    Comparing 7 (index 5) with current min 3 (index 2)\n",
      "  Swapping 6 and 3\n",
      "  Array after step 2: [1, 3, 6, 4, 9, 7]\n",
      "\n",
      "Step 3:\n",
      "  Starting index 2, current value: 6\n",
      "    Comparing 4 (index 3) with current min 6 (index 2)\n",
      "    → New minimum found: 4 at index 3\n",
      "    Comparing 9 (index 4) with current min 4 (index 3)\n",
      "    Comparing 7 (index 5) with current min 4 (index 3)\n",
      "  Swapping 6 and 4\n",
      "  Array after step 3: [1, 3, 4, 6, 9, 7]\n",
      "\n",
      "Step 4:\n",
      "  Starting index 3, current value: 6\n",
      "    Comparing 9 (index 4) with current min 6 (index 3)\n",
      "    Comparing 7 (index 5) with current min 6 (index 3)\n",
      "  No swap needed\n",
      "  Array after step 4: [1, 3, 4, 6, 9, 7]\n",
      "\n",
      "Step 5:\n",
      "  Starting index 4, current value: 9\n",
      "    Comparing 7 (index 5) with current min 9 (index 4)\n",
      "    → New minimum found: 7 at index 5\n",
      "  Swapping 9 and 7\n",
      "  Array after step 5: [1, 3, 4, 6, 7, 9]\n",
      "\n",
      "Step 6:\n",
      "  Starting index 5, current value: 9\n",
      "  No swap needed\n",
      "  Array after step 6: [1, 3, 4, 6, 7, 9]\n",
      "\n",
      "Sorted array: [1, 3, 4, 6, 7, 9]\n"
     ]
    },
    {
     "data": {
      "text/plain": [
       "[1, 3, 4, 6, 7, 9]"
      ]
     },
     "execution_count": 4,
     "metadata": {},
     "output_type": "execute_result"
    }
   ],
   "source": [
    "def selection_sort_steps(arr):\n",
    "    \"\"\"\n",
    "    Perform selection sort and print each step.\n",
    "    \"\"\"\n",
    "    n = len(arr)\n",
    "    print(f\"Initial array: {arr}\\n\")\n",
    "\n",
    "    for i in range(n):\n",
    "        min_idx = i\n",
    "        print(f\"Step {i + 1}:\")\n",
    "        print(f\"  Starting index {i}, current value: {arr[i]}\")\n",
    "\n",
    "        for j in range(i + 1, n):\n",
    "            print(f\"    Comparing {arr[j]} (index {j}) with current min {arr[min_idx]} (index {min_idx})\")\n",
    "            if arr[j] < arr[min_idx]:\n",
    "                min_idx = j\n",
    "                print(f\"    → New minimum found: {arr[min_idx]} at index {min_idx}\")\n",
    "\n",
    "        if i != min_idx:\n",
    "            print(f\"  Swapping {arr[i]} and {arr[min_idx]}\")\n",
    "            arr[i], arr[min_idx] = arr[min_idx], arr[i]\n",
    "        else:\n",
    "            print(f\"  No swap needed\")\n",
    "\n",
    "        print(f\"  Array after step {i + 1}: {arr}\\n\")\n",
    "\n",
    "    print(f\"Sorted array: {arr}\")\n",
    "    return arr\n",
    "\n",
    "# Input from user\n",
    "arr = list(map(int, input(\"Enter the array to sort (space separated): \").split()))\n",
    "selection_sort_steps(arr)\n"
   ]
  },
  {
   "cell_type": "code",
   "execution_count": null,
   "id": "3239c4b7-9c23-47cb-9416-ba2e025d3982",
   "metadata": {},
   "outputs": [],
   "source": []
  }
 ],
 "metadata": {
  "kernelspec": {
   "display_name": "Python [conda env:base] *",
   "language": "python",
   "name": "conda-base-py"
  },
  "language_info": {
   "codemirror_mode": {
    "name": "ipython",
    "version": 3
   },
   "file_extension": ".py",
   "mimetype": "text/x-python",
   "name": "python",
   "nbconvert_exporter": "python",
   "pygments_lexer": "ipython3",
   "version": "3.12.7"
  }
 },
 "nbformat": 4,
 "nbformat_minor": 5
}
